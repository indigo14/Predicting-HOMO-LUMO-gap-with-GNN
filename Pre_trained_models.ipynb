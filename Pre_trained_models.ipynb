{
  "cells": [
    {
      "cell_type": "markdown",
      "metadata": {
        "id": "7uJHI0-LcUBY"
      },
      "source": [
        "## Using pre-trained models\n",
        "\n",
        "If the model parameters and optimized weights are available, the model can be used to make predictions or train further (transfer learning)\n",
        "\n",
        "Here, we will use the graph neural network from the published [article](https://pubs.rsc.org/en/Content/ArticleLanding/2022/SC/D2SC04676H). We will the the molecular property lowest singlet excitation which could correspond to absorption maxima.\n",
        "\n",
        "First, we will download the model.\n",
        "\n"
      ]
    },
    {
      "cell_type": "code",
      "execution_count": null,
      "metadata": {
        "id": "qff48u-Pat1R"
      },
      "outputs": [],
      "source": [
        "# download the parameters and weights\n",
        "# ! wget https://data.materialsdatafacility.org/mdf_open/ocelotml_2d_v1.2/s0t1_3gen/best_r2.pt\n",
        "# ! wget https://data.materialsdatafacility.org/mdf_open/ocelotml_2d_v1.2/s0t1_3gen/params.json\n",
        "import requests\n",
        "\n",
        "# URLs of the files to download\n",
        "urls = [\n",
        "    \"https://data.materialsdatafacility.org/mdf_open/ocelotml_2d_v1.2/s0t1_3gen/best_r2.pt\",\n",
        "    \"https://data.materialsdatafacility.org/mdf_open/ocelotml_2d_v1.2/s0t1_3gen/params.json\"\n",
        "]\n",
        "\n",
        "# Download the files\n",
        "for url in urls:\n",
        "    response = requests.get(url)\n",
        "    filename = url.split(\"/\")[-1]\n",
        "    with open(filename, \"wb\") as file:\n",
        "        file.write(response.content)\n",
        "\n",
        "print(\"Files downloaded successfully.\")\n"
      ]
    },
    {
      "cell_type": "code",
      "execution_count": null,
      "metadata": {
        "id": "qSQIJTQNcmti"
      },
      "outputs": [],
      "source": [
        "# install the packages\n",
        "! pip install dgl\n",
        "! pip install dgllife\n",
        "! pip install rdkit"
      ]
    },
    {
      "cell_type": "markdown",
      "metadata": {
        "id": "7SDrfMmc2fAf"
      },
      "source": [
        "This is the code for the MPNN used in the article"
      ]
    },
    {
      "cell_type": "code",
      "execution_count": null,
      "metadata": {
        "id": "3dNFACCEb-px"
      },
      "outputs": [],
      "source": [
        "import torch\n",
        "import torch.nn as nn\n",
        "from dgl.nn.pytorch import Set2Set\n",
        "from dgllife.model.gnn import MPNNGNN\n",
        "\n",
        "\n",
        "class MPNN_readout(nn.Module):\n",
        "\n",
        "    def __init__(self,\n",
        "                 node_in_feats,\n",
        "                 edge_in_feats,\n",
        "                 node_out_feats=64,\n",
        "                 edge_hidden_feats=128,\n",
        "                 n_tasks=1,\n",
        "                 num_step_message_passing=6,\n",
        "                 num_step_set2set=6,\n",
        "                 dropout=0,\n",
        "                 num_layer_set2set=3, descriptor_feats=0):\n",
        "        super(MPNN_readout, self).__init__()\n",
        "\n",
        "        self.gnn = MPNNGNN(node_in_feats=node_in_feats,\n",
        "                           node_out_feats=node_out_feats,\n",
        "                           edge_in_feats=edge_in_feats,\n",
        "                           edge_hidden_feats=edge_hidden_feats,\n",
        "                           num_step_message_passing=num_step_message_passing)\n",
        "        self.readout = Set2Set(input_dim=node_out_feats,\n",
        "                               n_iters=num_step_set2set,\n",
        "                               n_layers=num_layer_set2set)\n",
        "        self.predict = nn.Sequential(\n",
        "            nn.Dropout(p=dropout),\n",
        "            nn.Linear(2 * node_out_feats + descriptor_feats, node_out_feats),\n",
        "            nn.ReLU(),\n",
        "            nn.BatchNorm1d(node_out_feats),\n",
        "            nn.Linear(node_out_feats, n_tasks)\n",
        "        )\n",
        "\n",
        "    def forward(self, g, node_feats, edge_feats, concat_feats=None):\n",
        "        node_feats = self.gnn(g, node_feats, edge_feats)\n",
        "        graph_feats = self.readout(g, node_feats)\n",
        "        if concat_feats != None:\n",
        "            final_feats = torch.cat((graph_feats, concat_feats), dim=1)\n",
        "        else:\n",
        "            final_feats = graph_feats\n",
        "        return self.predict(final_feats)"
      ]
    },
    {
      "cell_type": "markdown",
      "metadata": {
        "id": "vV7n6t1Silab"
      },
      "source": [
        "Getting the model parameters from the params.json file"
      ]
    },
    {
      "cell_type": "code",
      "execution_count": null,
      "metadata": {
        "id": "-gYpAodcipzR"
      },
      "outputs": [],
      "source": [
        "import json\n",
        "\n",
        "#with open(\"params.json\") as f:\n",
        "with open(\".\\params.json\") as f:\n",
        "  params = json.load(f)\n",
        "\n",
        "params"
      ]
    },
    {
      "cell_type": "markdown",
      "metadata": {
        "id": "VevY3oi7i2fJ"
      },
      "source": [
        "We need to add the node_in_feats which is the length of CanonicalAtomFeatures , 74 and edge_in_feats is 12 from the CanonicalBondFeaturizer."
      ]
    },
    {
      "cell_type": "code",
      "execution_count": null,
      "metadata": {
        "id": "d6II6iBIjIVa"
      },
      "outputs": [],
      "source": [
        "params.update(\n",
        "    {\n",
        "      \"node_in_feats\" : 74,\n",
        "      \"edge_in_feats\": 12\n",
        "    }\n",
        ")"
      ]
    },
    {
      "cell_type": "markdown",
      "metadata": {
        "id": "ROty_exH2m0A"
      },
      "source": [
        "Let's create the model object"
      ]
    },
    {
      "cell_type": "code",
      "execution_count": null,
      "metadata": {
        "id": "VTO8PJoHci4e"
      },
      "outputs": [],
      "source": [
        "model = MPNN_readout(**params)\n",
        "model"
      ]
    },
    {
      "cell_type": "markdown",
      "metadata": {
        "id": "EW5A_Bsgjj4t"
      },
      "source": [
        "We have the model parameters set. But we don't have the optimized weights. Let's load the weights from the pre-trained model."
      ]
    },
    {
      "cell_type": "code",
      "execution_count": null,
      "metadata": {
        "id": "u448Qag4jU2b"
      },
      "outputs": [],
      "source": [
        "model.load_state_dict(torch.load(\".\\\\best_r2.pt\", map_location=torch.device('cpu')))"
      ]
    },
    {
      "cell_type": "markdown",
      "metadata": {
        "id": "gJIkoxuzyo6t"
      },
      "source": [
        "Create the graphs for input to model"
      ]
    },
    {
      "cell_type": "code",
      "execution_count": null,
      "metadata": {
        "id": "tKbalr_0yp51"
      },
      "outputs": [],
      "source": [
        "# import from rdkit and dgl-lifesci\n",
        "from rdkit import Chem\n",
        "from dgllife.utils import CanonicalAtomFeaturizer, CanonicalBondFeaturizer, \\\n",
        "mol_to_bigraph\n",
        "\n",
        "# create the atom and bond featurizer object\n",
        "atom_featurizer = CanonicalAtomFeaturizer(atom_data_field=\"hv\")\n",
        "bond_featurizer = CanonicalBondFeaturizer(bond_data_field=\"he\")\n",
        "\n",
        "# example smiles - ethane\n",
        "smiles = \"CC\"\n",
        "\n",
        "# mol_to_graph requires the RDKit molecule and featurizers\n",
        "mol = Chem.MolFromSmiles(smiles)\n",
        "graph = mol_to_bigraph(mol, node_featurizer=atom_featurizer,\n",
        "                     edge_featurizer=bond_featurizer)\n",
        "\n",
        "# display the graph object\n",
        "graph"
      ]
    },
    {
      "cell_type": "markdown",
      "metadata": {
        "id": "lGWQ2y01y2qf"
      },
      "source": [
        "Make predictions"
      ]
    },
    {
      "cell_type": "code",
      "execution_count": null,
      "metadata": {
        "id": "Mg5z5D65yu8s"
      },
      "outputs": [],
      "source": [
        "model.eval()\n",
        "node_feats = graph.ndata[\"hv\"]\n",
        "edge_feats = graph.edata[\"he\"]\n",
        "model(graph, node_feats, edge_feats)"
      ]
    },
    {
      "cell_type": "markdown",
      "metadata": {
        "id": "d859y_rizuL8"
      },
      "source": [
        "## Saving a trained pytorch model\n",
        "\n",
        "Use the `torch.save` function and pass in the model state_dict and name"
      ]
    },
    {
      "cell_type": "code",
      "execution_count": null,
      "metadata": {
        "id": "tUa5JXdTzwOX"
      },
      "outputs": [],
      "source": [
        "torch.save(model.state_dict(), \"my_model.pt\")"
      ]
    },
    {
      "cell_type": "markdown",
      "metadata": {
        "id": "T60HYWG5LNBB"
      },
      "source": [
        "## Transfer learning\n",
        "\n",
        "When data is limited for prediction one task, a model that is trained on another task with large data can be used to produce models with higher accuracy than starting model training from scratch.\n",
        "\n",
        "Let's say there is a model to predict HOMO-LUMO gap trained on the QM9 dataset. If your task is to now predict the HOMO energies, there is no need to start the model training from scratch. You can use the optimized weights from the HOMO-LUMO gap predictor and not change them for inner layers. Only the weights for the penultimate layers could be optimized for the HOMO energy prediction model. This process is called transfer learning.\n",
        "\n",
        "Here, we will freeze the `gnn` and `readout` layers and allow the weights on the `predict` layer to be trainable."
      ]
    },
    {
      "cell_type": "code",
      "execution_count": null,
      "metadata": {
        "id": "v41sy1VJ4H54"
      },
      "outputs": [],
      "source": [
        "model"
      ]
    },
    {
      "cell_type": "markdown",
      "metadata": {
        "id": "MEc4zzCBMfMe"
      },
      "source": [
        "Let's look at the parameter (weights)"
      ]
    },
    {
      "cell_type": "code",
      "execution_count": null,
      "metadata": {
        "id": "JyP1VxVx4Um9"
      },
      "outputs": [],
      "source": [
        "for param in model.parameters():\n",
        "  print(param)"
      ]
    },
    {
      "cell_type": "markdown",
      "metadata": {
        "id": "M-p6fr8ZMjXd"
      },
      "source": [
        "We see all have gradients. To freeze the weights we need to remove the gradients"
      ]
    },
    {
      "cell_type": "code",
      "execution_count": null,
      "metadata": {
        "id": "4QX9QfYx27OT"
      },
      "outputs": [],
      "source": [
        "for param in model.parameters():\n",
        "  param.requires_grad = False"
      ]
    },
    {
      "cell_type": "markdown",
      "metadata": {
        "id": "2doOj1rDMtkn"
      },
      "source": [
        "All weights are frozen. If the model is used for training, the model weights will not change. This implies not learning."
      ]
    },
    {
      "cell_type": "code",
      "execution_count": null,
      "metadata": {
        "id": "797IXvQJ28in"
      },
      "outputs": [],
      "source": [
        "for param in model.parameters():\n",
        "  print(param)"
      ]
    },
    {
      "cell_type": "markdown",
      "metadata": {
        "id": "wueZKg1jM3Aq"
      },
      "source": [
        "We want the predict layer weights to be trainable. Let's not freeze those"
      ]
    },
    {
      "cell_type": "code",
      "execution_count": null,
      "metadata": {
        "id": "v-2AekD64ED3"
      },
      "outputs": [],
      "source": [
        "for param in model.predict.parameters():\n",
        "  param.requires_grad = True"
      ]
    },
    {
      "cell_type": "markdown",
      "metadata": {
        "id": "YzDNf1FDNB0o"
      },
      "source": [
        "Check the weights again"
      ]
    },
    {
      "cell_type": "code",
      "execution_count": null,
      "metadata": {
        "id": "7xDabw0Z45fF"
      },
      "outputs": [],
      "source": [
        "for param in model.parameters():\n",
        "  print(param)"
      ]
    }
  ],
  "metadata": {
    "colab": {
      "provenance": []
    },
    "kernelspec": {
      "display_name": "base",
      "language": "python",
      "name": "python3"
    },
    "language_info": {
      "codemirror_mode": {
        "name": "ipython",
        "version": 3
      },
      "file_extension": ".py",
      "mimetype": "text/x-python",
      "name": "python",
      "nbconvert_exporter": "python",
      "pygments_lexer": "ipython3",
      "version": "undefined.undefined.undefined"
    }
  },
  "nbformat": 4,
  "nbformat_minor": 0
}
