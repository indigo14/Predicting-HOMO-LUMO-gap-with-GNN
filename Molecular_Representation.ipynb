{
  "cells": [
    {
      "cell_type": "markdown",
      "metadata": {
        "id": "MmCFRpMi3W5T"
      },
      "source": [
        "### Featurizers\n",
        "\n",
        "There are several featurizers available in python packages like ```deepchem```. Here, we will look at some of those. A detailed documentation can be found [here](https://deepchem.readthedocs.io/en/latest/api_reference/featurizers.html)\n",
        "\n",
        "Unlike dataset splitters, we do not need to convert our dataset into a deepchem object. We apply the featurizers on the pandas dataframe. "
      ]
    },
    {
      "cell_type": "code",
      "execution_count": null,
      "metadata": {
        "id": "0g8bsycm3EGm"
      },
      "outputs": [],
      "source": [
        "# install deepchem and rdkit\n",
        "! pip install deepchem\n",
        "! pip install rdkit"
      ]
    },
    {
      "cell_type": "markdown",
      "metadata": {
        "id": "mwnfPX634ts3"
      },
      "source": [
        "As before, we will use the QM9 dataset with HOMO-LUMO gap as the target. We will apply the featurizer to entire dataset and then split it randomly."
      ]
    },
    {
      "cell_type": "code",
      "execution_count": null,
      "metadata": {
        "id": "Z_uJE7ck4p1Q"
      },
      "outputs": [],
      "source": [
        "# import that pandas library\n",
        "import pandas as pd\n",
        "\n",
        "# load the dataframe as CSV from URL. \n",
        "# If you upload the file to Colab, replace the URL with the file name \n",
        "df = pd.read_csv(\"https://deepchemdata.s3-us-west-1.amazonaws.com/datasets/qm9.csv\")\n",
        "\n",
        "# create the dataset with only smiles and gap and 10% dataset\n",
        "dataset = df[[\"smiles\",\"gap\"]].sample(frac=0.1)"
      ]
    },
    {
      "cell_type": "markdown",
      "metadata": {
        "id": "sN8BZwFu5c1F"
      },
      "source": [
        "We will use ``CircularFingerprint``(Morgan fingerprint) and ``RDKitDescriptors`` featurizer from deepchem. You can look for documentation on available featurizers [here](https://deepchem.readthedocs.io/en/latest/api_reference/featurizers.html)  "
      ]
    },
    {
      "cell_type": "markdown",
      "metadata": {
        "id": "avzcc2dx8wVJ"
      },
      "source": [
        "### CircularFingerprints"
      ]
    },
    {
      "cell_type": "code",
      "execution_count": null,
      "metadata": {
        "id": "U3kTcEpH5EJL"
      },
      "outputs": [],
      "source": [
        "# import depechem and rdkit\n",
        "import deepchem as dc\n",
        "from rdkit import Chem\n",
        "\n",
        "# create the featurizer object\n",
        "# we will set the radius=2, size=100 as before\n",
        "featurizer = dc.feat.CircularFingerprint(size=100, radius=2)"
      ]
    },
    {
      "cell_type": "markdown",
      "metadata": {
        "id": "ntdnnK006il4"
      },
      "source": [
        "To test, we will apply the featurizer to ethane."
      ]
    },
    {
      "cell_type": "code",
      "execution_count": null,
      "metadata": {
        "id": "MMgDRC166eRJ"
      },
      "outputs": [],
      "source": [
        "featurizer.featurize(\"CC\")"
      ]
    },
    {
      "cell_type": "markdown",
      "metadata": {
        "id": "lRM-sY6860Ky"
      },
      "source": [
        "We see that the output is an array and the code is less sophisticated than the pure RDKit implementation. We can now apply the featurizer to the dataset. This may take a while."
      ]
    },
    {
      "cell_type": "code",
      "execution_count": null,
      "metadata": {
        "id": "NvRFwbaP6riS"
      },
      "outputs": [],
      "source": [
        "dataset[\"fp\"] = dataset[\"smiles\"].apply(featurizer.featurize)"
      ]
    },
    {
      "cell_type": "code",
      "execution_count": null,
      "metadata": {
        "id": "Q2BikdAS7PMY"
      },
      "outputs": [],
      "source": [
        "# looking at the top 5 entries\n",
        "dataset.head()"
      ]
    },
    {
      "cell_type": "markdown",
      "metadata": {
        "id": "yCv0L3sk80TS"
      },
      "source": [
        "### RDKitDescriptors\n",
        "\n",
        "This gives a list of chemical descriptors like molecular weight, number of valence electrons, maximum and minimum partial charge, etc using RDKit. By default, the length of the list is 208.\n",
        "\n",
        "The code below shows featurizing of ethane."
      ]
    },
    {
      "cell_type": "code",
      "execution_count": null,
      "metadata": {
        "id": "JXtAYRXC8g7m"
      },
      "outputs": [],
      "source": [
        "# create the featurizer\n",
        "featurizer = dc.feat.RDKitDescriptors()\n",
        "\n",
        "# apply it on ethane\n",
        "featurizer.featurize(\"CC\")"
      ]
    }
  ],
  "metadata": {
    "colab": {
      "provenance": []
    },
    "kernelspec": {
      "display_name": "Python (pppvenv)",
      "language": "python",
      "name": "pppvenv"
    },
    "language_info": {
      "name": "python",
      "version": "3.11.7"
    }
  },
  "nbformat": 4,
  "nbformat_minor": 0
}
